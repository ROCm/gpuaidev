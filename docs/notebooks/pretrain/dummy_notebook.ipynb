{
 "cells": [
  {
   "cell_type": "markdown",
   "id": "3bdc7a27",
   "metadata": {},
   "source": [
    "# Dummy Jupyter Notebook\n",
    "\n",
    "This is a simple notebook for testing Sphinx and ReadTheDocs integration."
   ]
  },
  {
   "cell_type": "markdown",
   "id": "84aaf060",
   "metadata": {},
   "source": [
    "## Example Code Cell\n",
    "\n",
    "Below is a Python example that prints a message."
   ]
  },
  {
   "cell_type": "code",
   "execution_count": 1,
   "id": "27b9baa6",
   "metadata": {},
   "outputs": [
    {
     "name": "stdout",
     "output_type": "stream",
     "text": [
      "Hello, Sphinx and ReadTheDocs!\n"
     ]
    }
   ],
   "source": [
    "print(\"Hello, Sphinx and ReadTheDocs!\")"
   ]
  },
  {
   "cell_type": "markdown",
   "id": "3afe8bd9",
   "metadata": {},
   "source": [
    "## Example Plot\n",
    "\n",
    "Below is a simple plot generated using `matplotlib`."
   ]
  },
  {
   "cell_type": "code",
   "execution_count": 2,
   "id": "12511385",
   "metadata": {},
   "outputs": [
    {
     "data": {
      "image/png": "[encoded data removed]",
      "text/plain": [
       "<Figure size 640x480 with 1 Axes>"
      ]
     },
     "metadata": {
      "needs_background": "light"
     },
     "output_type": "display_data"
    }
   ],
   "source": [
    "import matplotlib.pyplot as plt\n",
    "\n",
    "x = [1, 2, 3, 4, 5]\n",
    "y = [1, 4, 9, 16, 25]\n",
    "\n",
    "plt.plot(x, y, label=\"y = x^2\")\n",
    "plt.xlabel(\"x\")\n",
    "plt.ylabel(\"y\")\n",
    "plt.title(\"Simple Plot\")\n",
    "plt.legend()\n",
    "plt.show()"
   ]
  }
 ],
 "metadata": {
  "kernelspec": {
   "display_name": "Python 3",
   "language": "python",
   "name": "python3"
  },
  "language_info": {
   "codemirror_mode": {
    "name": "ipython",
    "version": 3
   },
   "file_extension": ".py",
   "mimetype": "text/x-python",
   "name": "python",
   "nbconvert_exporter": "python",
   "pygments_lexer": "ipython3",
   "version": "3.9.7"
  }
 },
 "nbformat": 4,
 "nbformat_minor": 5
}
